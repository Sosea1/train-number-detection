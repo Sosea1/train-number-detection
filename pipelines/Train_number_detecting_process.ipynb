{
 "cells": [
  {
   "cell_type": "markdown",
   "metadata": {
    "id": "oROiVl0QN6N9"
   },
   "source": [
    "# Import"
   ]
  },
  {
   "cell_type": "code",
   "execution_count": 1,
   "metadata": {
    "colab": {
     "base_uri": "https://localhost:8080/"
    },
    "id": "cXHJ3bWx6RsA",
    "outputId": "42499212-e313-4751-cd92-f3c7e50ed41b"
   },
   "outputs": [
    {
     "name": "stderr",
     "output_type": "stream",
     "text": [
      "Ultralytics YOLOv8.0.20 🚀 Python-3.10.12 torch-2.0.1+cu118 CPU\n",
      "Setup complete ✅ (2 CPUs, 12.7 GB RAM, 26.8/107.7 GB disk)\n"
     ]
    }
   ],
   "source": [
    "!pip install ultralytics==8.0.20\n",
    "\n",
    "from IPython import display\n",
    "display.clear_output()\n",
    "\n",
    "import ultralytics\n",
    "ultralytics.checks()\n",
    "\n",
    "from ultralytics import YOLO\n",
    "\n",
    "from IPython.display import display, Image\n",
    "\n",
    "import cv2\n",
    "import matplotlib.pyplot as plt"
   ]
  },
  {
   "cell_type": "code",
   "execution_count": 2,
   "metadata": {
    "colab": {
     "base_uri": "https://localhost:8080/"
    },
    "id": "hfz57Eug6oZ_",
    "outputId": "66efc3ea-4d8f-4f8a-89de-8f9a8424c277"
   },
   "outputs": [
    {
     "name": "stdout",
     "output_type": "stream",
     "text": [
      "Mounted at /content/drive\n"
     ]
    }
   ],
   "source": [
    "from google.colab import drive\n",
    "drive.mount('/content/drive')"
   ]
  },
  {
   "cell_type": "markdown",
   "metadata": {
    "id": "hPxTRQBn2CVN"
   },
   "source": [
    "# Predict with crop hand"
   ]
  },
  {
   "cell_type": "code",
   "execution_count": null,
   "metadata": {
    "id": "-i7NfodCXY38"
   },
   "outputs": [],
   "source": [
    "# Hip Param\n",
    "file_path_images = '/content/drive/MyDrive/Hackaton/YOLO/data/test/images/94186988.jpg'\n",
    "model_path = '/content/drive/MyDrive/Hackaton/YOLO/runs/detect/train2/weights/best.pt'\n",
    "file_path_dir = '/content/drive/MyDrive/Hackaton/YOLO/data/test/images/'"
   ]
  },
  {
   "cell_type": "code",
   "execution_count": null,
   "metadata": {
    "colab": {
     "base_uri": "https://localhost:8080/"
    },
    "id": "NEiptA1OTCSc",
    "outputId": "311442ec-4a64-4bc5-8e95-13d7f840dc30"
   },
   "outputs": [
    {
     "name": "stderr",
     "output_type": "stream",
     "text": [
      "Ultralytics YOLOv8.0.20 🚀 Python-3.10.12 torch-2.0.1+cu118 CPU\n",
      "Model summary (fused): 218 layers, 25840339 parameters, 0 gradients, 78.7 GFLOPs\n"
     ]
    }
   ],
   "source": [
    "model = YOLO(model_path)\n",
    "results = model.predict(file_path_images, save=False, imgsz=1600, conf=0.25) # Переводим в режим предсказания объекта и записываем результаты\n",
    "# Циклом проходим по списку результатов\n",
    "for r in results:\n",
    "  # Забираем координаты обнаруженного объекта\n",
    "  boxes = r.boxes.xyxy\n",
    "  # Преобразуем к нампи массиву\n",
    "  numpy_array = boxes.cpu().numpy()"
   ]
  },
  {
   "cell_type": "code",
   "execution_count": null,
   "metadata": {
    "colab": {
     "base_uri": "https://localhost:8080/",
     "height": 358
    },
    "id": "U_kMxO8-1EgY",
    "outputId": "929da9ad-a40a-4830-9fe3-0b6a72086f4d"
   },
   "outputs": [
    {
     "data": {
      "image/png": "[encoded data removed]",
      "text/plain": [
       "<Figure size 640x480 with 1 Axes>"
      ]
     },
     "metadata": {},
     "output_type": "display_data"
    }
   ],
   "source": [
    "img = cv2.imread(file_path_images)\n",
    "crop_img = img[int(numpy_array[0][1]):int(numpy_array[0][3]), int(numpy_array[0][0]):int(numpy_array[0][2])]\n",
    "crop_img = cv2.imwrite('crop_img.jpeg', crop_img)\n",
    "plt.imshow(crop_img)\n",
    "plt.show()"
   ]
  },
  {
   "cell_type": "markdown",
   "metadata": {
    "id": "6_oD6KXgZs9f"
   },
   "source": [
    "# RUN"
   ]
  },
  {
   "cell_type": "code",
   "execution_count": 4,
   "metadata": {
    "id": "zui8jbbF_-E0"
   },
   "outputs": [],
   "source": [
    "import os"
   ]
  },
  {
   "cell_type": "code",
   "execution_count": 5,
   "metadata": {
    "id": "8kTqvXqHbjA_"
   },
   "outputs": [],
   "source": [
    "file_path_dir = '/content/drive/MyDrive/Hackaton/YOLO/data/test/images/'\n",
    "model_path = '/content/drive/MyDrive/Hackaton/YOLO/runs/detect/train2/weights/last.pt'\n",
    "images = os.listdir(file_path_dir)"
   ]
  },
  {
   "cell_type": "code",
   "execution_count": 6,
   "metadata": {
    "id": "bEdFVpe4_353"
   },
   "outputs": [],
   "source": [
    "!mkdir predict_crop"
   ]
  },
  {
   "cell_type": "code",
   "execution_count": null,
   "metadata": {
    "id": "fKXH8c8EZu53"
   },
   "outputs": [],
   "source": [
    "images = os.listdir(file_path_dir)\n",
    "for image in images:\n",
    "  model = YOLO(model_path)\n",
    "  results = model.predict(file_path_dir + image, save=False, imgsz=1600, conf=0.25) # Переводим в режим предсказания объекта и записываем результаты\n",
    "  # Циклом проходим по списку результатов\n",
    "  for r in results:\n",
    "    # Забираем координаты обнаруженного объекта\n",
    "    boxes = r.boxes.xyxy\n",
    "    # Преобразуем к нампи массиву\n",
    "    numpy_array = boxes.cpu().numpy()\n",
    "    img = cv2.imread(file_path_dir + image)\n",
    "    crop_img = img[int(numpy_array[0][1]):int(numpy_array[0][3]), int(numpy_array[0][0]):int(numpy_array[0][2])]\n",
    "    %cd '/content/predict_crop/'\n",
    "    crop_img = cv2.imwrite('crop_img_' + image, crop_img)\n"
   ]
  },
  {
   "cell_type": "code",
   "execution_count": null,
   "metadata": {
    "id": "LsVpKuxlbLdf"
   },
   "outputs": [],
   "source": [
    "file_path_dir = '/content/predict_crop/'\n",
    "images = os.listdir(file_path_dir)\n",
    "path_dest = '/content/predict_crop/'\n",
    "for image in images:\n",
    "    fname = file_path_dir + image\n",
    "    bgray = cv2.imread(fname)[...,0]\n",
    "    blured1 = cv2.medianBlur(bgray,3)\n",
    "    blured2 = cv2.medianBlur(bgray,51)\n",
    "    divided = np.ma.divide(blured1, blured2).data\n",
    "    normed = np.uint8(255*divided/divided.max())\n",
    "    th, threshed = cv2.threshold(normed, 100, 255, cv2.THRESH_OTSU)\n",
    "    img_tesseract = threshed\n",
    "    cv2_imshow(threshed)\n",
    "    %cd '/content/high quality/'\n",
    "    cv2.imwrite( image + \".png\", threshed)"
   ]
  },
  {
   "cell_type": "markdown",
   "metadata": {
    "id": "Tt7dewcdzdPO"
   },
   "source": [
    "# Image editing"
   ]
  },
  {
   "cell_type": "code",
   "execution_count": null,
   "metadata": {
    "colab": {
     "base_uri": "https://localhost:8080/"
    },
    "id": "IyeTk5f-zchB",
    "outputId": "7a6102ab-b6ba-4817-d53c-49eec1c9ffc4"
   },
   "outputs": [
    {
     "data": {
      "text/plain": [
       "True"
      ]
     },
     "execution_count": 7,
     "metadata": {},
     "output_type": "execute_result"
    }
   ],
   "source": [
    "def enlarge_img(image, scale_percent):\n",
    "    width = int(image.shape[1] * scale_percent / 100)\n",
    "    height = int(image.shape[0] * scale_percent / 100)\n",
    "    dim = (width, height)\n",
    "    resized_image = cv2.resize(image, dim, interpolation=cv2.INTER_AREA)\n",
    "\n",
    "    return resized_image\n",
    "\n",
    "\n",
    "def grayscale(image):\n",
    "    return cv2.cvtColor(image, cv2.COLOR_BGR2GRAY)\n",
    "\n",
    "\n",
    "def noise_removal(image):\n",
    "    import numpy as np\n",
    "    kernel = np.ones((1, 1), np.uint8)\n",
    "    image = cv2.dilate(image, kernel, iterations=1)\n",
    "    kernel = np.ones((1, 1), np.uint8)\n",
    "    image = cv2.erode(image, kernel, iterations=1)\n",
    "    image = cv2.morphologyEx(image, cv2.MORPH_CLOSE, kernel)\n",
    "    image = cv2.medianBlur(image, 3)\n",
    "    return (image)\n",
    "\n",
    "\n",
    "def thick_font(image):\n",
    "    import numpy as np\n",
    "    image = cv2.bitwise_not(image)\n",
    "    kernel = np.ones((2,2),np.uint8)\n",
    "    image = cv2.dilate(image, kernel, iterations=1)\n",
    "    image = cv2.bitwise_not(image)\n",
    "    return (image)\n",
    "\n",
    "\n",
    "image_path = '/content/crop_img.jpeg'\n",
    "img = cv2.imread(image_path)\n",
    "\n",
    "resized = enlarge_img(img, 300)\n",
    "gray_image = grayscale(resized)\n",
    "thresh, im_bw = cv2.threshold(gray_image, 100, 300, cv2.THRESH_OTSU)\n",
    "no_noise = noise_removal(im_bw)\n",
    "eroded_image = thick_font(no_noise)\n",
    "dilated_image = thick_font(no_noise)\n",
    "cv2.imwrite(\"dilated_image.jpg\", dilated_image)"
   ]
  },
  {
   "cell_type": "markdown",
   "metadata": {
    "id": "HdWQ5ctolNI_"
   },
   "source": [
    "\n",
    "# easyocr"
   ]
  },
  {
   "cell_type": "code",
   "execution_count": null,
   "metadata": {
    "id": "mR72TAfJlXGM"
   },
   "outputs": [],
   "source": [
    "!pip install easyocr"
   ]
  },
  {
   "cell_type": "code",
   "execution_count": null,
   "metadata": {
    "id": "NTYssh7JlzOC"
   },
   "outputs": [],
   "source": [
    "import easyocr"
   ]
  },
  {
   "cell_type": "code",
   "execution_count": null,
   "metadata": {
    "colab": {
     "base_uri": "https://localhost:8080/"
    },
    "collapsed": true,
    "id": "PtpYX817lYwz",
    "outputId": "b8a05d30-4ded-48f0-9d0d-2d46ea7db5c3"
   },
   "outputs": [
    {
     "name": "stderr",
     "output_type": "stream",
     "text": [
      "WARNING:easyocr.easyocr:Neither CUDA nor MPS are available - defaulting to CPU. Note: This module is much faster with a GPU.\n",
      "WARNING:easyocr.easyocr:Downloading detection model, please wait. This may take several minutes depending upon your network connection.\n"
     ]
    },
    {
     "name": "stdout",
     "output_type": "stream",
     "text": [
      "Progress: |██████████████████████████████████████████████████| 100.0% Complete"
     ]
    },
    {
     "name": "stderr",
     "output_type": "stream",
     "text": [
      "WARNING:easyocr.easyocr:Downloading recognition model, please wait. This may take several minutes depending upon your network connection.\n"
     ]
    },
    {
     "name": "stdout",
     "output_type": "stream",
     "text": [
      "Progress: |██████████████████████████████████████████████████| 100.0% Complete[([[0, 0], [252, 0], [252, 149], [0, 149]], '9464/5', 0.07660697721422727)]\n"
     ]
    }
   ],
   "source": [
    "def text_recognition(file_path):\n",
    "    reader = easyocr.Reader([])\n",
    "    result = reader.readtext(file_path)\n",
    "\n",
    "    return result\n",
    "\n",
    "print(text_recognition(file_path='/content/dilated_image.jpg'))"
   ]
  }
 ],
 "metadata": {
  "colab": {
   "provenance": []
  },
  "kernelspec": {
   "display_name": "Python 2",
   "name": "python2"
  }
 },
 "nbformat": 4,
 "nbformat_minor": 1
}
